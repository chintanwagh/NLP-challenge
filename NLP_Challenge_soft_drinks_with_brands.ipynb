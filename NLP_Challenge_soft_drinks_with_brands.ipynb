{
  "nbformat": 4,
  "nbformat_minor": 0,
  "metadata": {
    "colab": {
      "provenance": []
    },
    "kernelspec": {
      "name": "python3",
      "display_name": "Python 3"
    },
    "language_info": {
      "name": "python"
    }
  },
  "cells": [
    {
      "cell_type": "code",
      "source": [
        "import pandas as pd                         #Data manipulation library\n",
        "import re  # re is used to match the known brand names in the item names and extract them. Specifically, the re.search() method is used to search for a regular expression pattern within a string.\n",
        "from sklearn.feature_extraction.text import CountVectorizer#CountVectorizer is used to convert text data into a matrix of token counts.\n",
        "from sklearn.model_selection import train_test_split  # is a module that provides various tools for model selection, including splitting a dataset into a training set and a test set.\n",
        "from sklearn.naive_bayes import MultinomialNB # module that provides implementation of the Naive Bayes algorithm for classification"
      ],
      "metadata": {
        "id": "eV-ITMOLRpqS"
      },
      "execution_count": 1,
      "outputs": []
    },
    {
      "cell_type": "code",
      "source": [
        "# Load the data\n",
        "df = pd.read_csv(\"carbonated_soft_drinks.csv\")\n"
      ],
      "metadata": {
        "id": "0Vvt3NcPS-rE"
      },
      "execution_count": 3,
      "outputs": []
    },
    {
      "cell_type": "code",
      "source": [],
      "metadata": {
        "id": "v9LHKaYKrsld"
      },
      "execution_count": null,
      "outputs": []
    },
    {
      "cell_type": "code",
      "source": [
        "# Define the list of known brand names\n",
        "brands = [\"Coca-Cola\", \"Pepsi\", \"Mountain Dew\", \"Dr. Pepper\", \"Sprite\", \"Fanta\"]"
      ],
      "metadata": {
        "id": "q8qdbyFJS-t-"
      },
      "execution_count": 34,
      "outputs": []
    },
    {
      "cell_type": "code",
      "source": [
        "df.head(10)"
      ],
      "metadata": {
        "colab": {
          "base_uri": "https://localhost:8080/",
          "height": 363
        },
        "id": "PCPFcuGlrvGQ",
        "outputId": "0c8e4cce-4703-469a-9e1e-c9d1ce5a77cc"
      },
      "execution_count": 50,
      "outputs": [
        {
          "output_type": "execute_result",
          "data": {
            "text/plain": [
              "                        item_name    brand_name\n",
              "3               Bottle Pepsi 20oz         Pepsi\n",
              "5        Bottle Mountain Dew 20oz  Mountain Dew\n",
              "7          Bottle Dr. Pepper 20oz    Dr. Pepper\n",
              "8     Bottle Dr. Pepper Diet 20oz    Dr. Pepper\n",
              "9                 Diet Pepsi 20oz         Pepsi\n",
              "10  Bottle Mountain Dew Diet 20oz  Mountain Dew\n",
              "11             Bottle Sprite 20oz        Sprite\n",
              "17        Bottle Sprite Zero 20oz        Sprite\n",
              "24         Soda Pepsi 20oz Bottle         Pepsi\n",
              "26   BVC - Bottle Dr. Pepper 20oz    Dr. Pepper"
            ],
            "text/html": [
              "\n",
              "  <div id=\"df-d789963a-43d3-4f08-add6-25e253e4bb98\">\n",
              "    <div class=\"colab-df-container\">\n",
              "      <div>\n",
              "<style scoped>\n",
              "    .dataframe tbody tr th:only-of-type {\n",
              "        vertical-align: middle;\n",
              "    }\n",
              "\n",
              "    .dataframe tbody tr th {\n",
              "        vertical-align: top;\n",
              "    }\n",
              "\n",
              "    .dataframe thead th {\n",
              "        text-align: right;\n",
              "    }\n",
              "</style>\n",
              "<table border=\"1\" class=\"dataframe\">\n",
              "  <thead>\n",
              "    <tr style=\"text-align: right;\">\n",
              "      <th></th>\n",
              "      <th>item_name</th>\n",
              "      <th>brand_name</th>\n",
              "    </tr>\n",
              "  </thead>\n",
              "  <tbody>\n",
              "    <tr>\n",
              "      <th>3</th>\n",
              "      <td>Bottle Pepsi 20oz</td>\n",
              "      <td>Pepsi</td>\n",
              "    </tr>\n",
              "    <tr>\n",
              "      <th>5</th>\n",
              "      <td>Bottle Mountain Dew 20oz</td>\n",
              "      <td>Mountain Dew</td>\n",
              "    </tr>\n",
              "    <tr>\n",
              "      <th>7</th>\n",
              "      <td>Bottle Dr. Pepper 20oz</td>\n",
              "      <td>Dr. Pepper</td>\n",
              "    </tr>\n",
              "    <tr>\n",
              "      <th>8</th>\n",
              "      <td>Bottle Dr. Pepper Diet 20oz</td>\n",
              "      <td>Dr. Pepper</td>\n",
              "    </tr>\n",
              "    <tr>\n",
              "      <th>9</th>\n",
              "      <td>Diet Pepsi 20oz</td>\n",
              "      <td>Pepsi</td>\n",
              "    </tr>\n",
              "    <tr>\n",
              "      <th>10</th>\n",
              "      <td>Bottle Mountain Dew Diet 20oz</td>\n",
              "      <td>Mountain Dew</td>\n",
              "    </tr>\n",
              "    <tr>\n",
              "      <th>11</th>\n",
              "      <td>Bottle Sprite 20oz</td>\n",
              "      <td>Sprite</td>\n",
              "    </tr>\n",
              "    <tr>\n",
              "      <th>17</th>\n",
              "      <td>Bottle Sprite Zero 20oz</td>\n",
              "      <td>Sprite</td>\n",
              "    </tr>\n",
              "    <tr>\n",
              "      <th>24</th>\n",
              "      <td>Soda Pepsi 20oz Bottle</td>\n",
              "      <td>Pepsi</td>\n",
              "    </tr>\n",
              "    <tr>\n",
              "      <th>26</th>\n",
              "      <td>BVC - Bottle Dr. Pepper 20oz</td>\n",
              "      <td>Dr. Pepper</td>\n",
              "    </tr>\n",
              "  </tbody>\n",
              "</table>\n",
              "</div>\n",
              "      <button class=\"colab-df-convert\" onclick=\"convertToInteractive('df-d789963a-43d3-4f08-add6-25e253e4bb98')\"\n",
              "              title=\"Convert this dataframe to an interactive table.\"\n",
              "              style=\"display:none;\">\n",
              "        \n",
              "  <svg xmlns=\"http://www.w3.org/2000/svg\" height=\"24px\"viewBox=\"0 0 24 24\"\n",
              "       width=\"24px\">\n",
              "    <path d=\"M0 0h24v24H0V0z\" fill=\"none\"/>\n",
              "    <path d=\"M18.56 5.44l.94 2.06.94-2.06 2.06-.94-2.06-.94-.94-2.06-.94 2.06-2.06.94zm-11 1L8.5 8.5l.94-2.06 2.06-.94-2.06-.94L8.5 2.5l-.94 2.06-2.06.94zm10 10l.94 2.06.94-2.06 2.06-.94-2.06-.94-.94-2.06-.94 2.06-2.06.94z\"/><path d=\"M17.41 7.96l-1.37-1.37c-.4-.4-.92-.59-1.43-.59-.52 0-1.04.2-1.43.59L10.3 9.45l-7.72 7.72c-.78.78-.78 2.05 0 2.83L4 21.41c.39.39.9.59 1.41.59.51 0 1.02-.2 1.41-.59l7.78-7.78 2.81-2.81c.8-.78.8-2.07 0-2.86zM5.41 20L4 18.59l7.72-7.72 1.47 1.35L5.41 20z\"/>\n",
              "  </svg>\n",
              "      </button>\n",
              "      \n",
              "  <style>\n",
              "    .colab-df-container {\n",
              "      display:flex;\n",
              "      flex-wrap:wrap;\n",
              "      gap: 12px;\n",
              "    }\n",
              "\n",
              "    .colab-df-convert {\n",
              "      background-color: #E8F0FE;\n",
              "      border: none;\n",
              "      border-radius: 50%;\n",
              "      cursor: pointer;\n",
              "      display: none;\n",
              "      fill: #1967D2;\n",
              "      height: 32px;\n",
              "      padding: 0 0 0 0;\n",
              "      width: 32px;\n",
              "    }\n",
              "\n",
              "    .colab-df-convert:hover {\n",
              "      background-color: #E2EBFA;\n",
              "      box-shadow: 0px 1px 2px rgba(60, 64, 67, 0.3), 0px 1px 3px 1px rgba(60, 64, 67, 0.15);\n",
              "      fill: #174EA6;\n",
              "    }\n",
              "\n",
              "    [theme=dark] .colab-df-convert {\n",
              "      background-color: #3B4455;\n",
              "      fill: #D2E3FC;\n",
              "    }\n",
              "\n",
              "    [theme=dark] .colab-df-convert:hover {\n",
              "      background-color: #434B5C;\n",
              "      box-shadow: 0px 1px 3px 1px rgba(0, 0, 0, 0.15);\n",
              "      filter: drop-shadow(0px 1px 2px rgba(0, 0, 0, 0.3));\n",
              "      fill: #FFFFFF;\n",
              "    }\n",
              "  </style>\n",
              "\n",
              "      <script>\n",
              "        const buttonEl =\n",
              "          document.querySelector('#df-d789963a-43d3-4f08-add6-25e253e4bb98 button.colab-df-convert');\n",
              "        buttonEl.style.display =\n",
              "          google.colab.kernel.accessAllowed ? 'block' : 'none';\n",
              "\n",
              "        async function convertToInteractive(key) {\n",
              "          const element = document.querySelector('#df-d789963a-43d3-4f08-add6-25e253e4bb98');\n",
              "          const dataTable =\n",
              "            await google.colab.kernel.invokeFunction('convertToInteractive',\n",
              "                                                     [key], {});\n",
              "          if (!dataTable) return;\n",
              "\n",
              "          const docLinkHtml = 'Like what you see? Visit the ' +\n",
              "            '<a target=\"_blank\" href=https://colab.research.google.com/notebooks/data_table.ipynb>data table notebook</a>'\n",
              "            + ' to learn more about interactive tables.';\n",
              "          element.innerHTML = '';\n",
              "          dataTable['output_type'] = 'display_data';\n",
              "          await google.colab.output.renderOutput(dataTable, element);\n",
              "          const docLink = document.createElement('div');\n",
              "          docLink.innerHTML = docLinkHtml;\n",
              "          element.appendChild(docLink);\n",
              "        }\n",
              "      </script>\n",
              "    </div>\n",
              "  </div>\n",
              "  "
            ]
          },
          "metadata": {},
          "execution_count": 50
        }
      ]
    },
    {
      "cell_type": "code",
      "source": [
        "df.describe()"
      ],
      "metadata": {
        "colab": {
          "base_uri": "https://localhost:8080/",
          "height": 175
        },
        "id": "Kqju10-Yryw7",
        "outputId": "1b0a8267-6c04-4b82-baa4-1e9cdc2a3159"
      },
      "execution_count": 51,
      "outputs": [
        {
          "output_type": "execute_result",
          "data": {
            "text/plain": [
              "                item_name brand_name\n",
              "count                4119       4119\n",
              "unique               3558          7\n",
              "top     Bottle Pepsi 20oz      Pepsi\n",
              "freq                    4       1573"
            ],
            "text/html": [
              "\n",
              "  <div id=\"df-ac9d693e-4bea-4fe3-bb28-6b80f555c8a0\">\n",
              "    <div class=\"colab-df-container\">\n",
              "      <div>\n",
              "<style scoped>\n",
              "    .dataframe tbody tr th:only-of-type {\n",
              "        vertical-align: middle;\n",
              "    }\n",
              "\n",
              "    .dataframe tbody tr th {\n",
              "        vertical-align: top;\n",
              "    }\n",
              "\n",
              "    .dataframe thead th {\n",
              "        text-align: right;\n",
              "    }\n",
              "</style>\n",
              "<table border=\"1\" class=\"dataframe\">\n",
              "  <thead>\n",
              "    <tr style=\"text-align: right;\">\n",
              "      <th></th>\n",
              "      <th>item_name</th>\n",
              "      <th>brand_name</th>\n",
              "    </tr>\n",
              "  </thead>\n",
              "  <tbody>\n",
              "    <tr>\n",
              "      <th>count</th>\n",
              "      <td>4119</td>\n",
              "      <td>4119</td>\n",
              "    </tr>\n",
              "    <tr>\n",
              "      <th>unique</th>\n",
              "      <td>3558</td>\n",
              "      <td>7</td>\n",
              "    </tr>\n",
              "    <tr>\n",
              "      <th>top</th>\n",
              "      <td>Bottle Pepsi 20oz</td>\n",
              "      <td>Pepsi</td>\n",
              "    </tr>\n",
              "    <tr>\n",
              "      <th>freq</th>\n",
              "      <td>4</td>\n",
              "      <td>1573</td>\n",
              "    </tr>\n",
              "  </tbody>\n",
              "</table>\n",
              "</div>\n",
              "      <button class=\"colab-df-convert\" onclick=\"convertToInteractive('df-ac9d693e-4bea-4fe3-bb28-6b80f555c8a0')\"\n",
              "              title=\"Convert this dataframe to an interactive table.\"\n",
              "              style=\"display:none;\">\n",
              "        \n",
              "  <svg xmlns=\"http://www.w3.org/2000/svg\" height=\"24px\"viewBox=\"0 0 24 24\"\n",
              "       width=\"24px\">\n",
              "    <path d=\"M0 0h24v24H0V0z\" fill=\"none\"/>\n",
              "    <path d=\"M18.56 5.44l.94 2.06.94-2.06 2.06-.94-2.06-.94-.94-2.06-.94 2.06-2.06.94zm-11 1L8.5 8.5l.94-2.06 2.06-.94-2.06-.94L8.5 2.5l-.94 2.06-2.06.94zm10 10l.94 2.06.94-2.06 2.06-.94-2.06-.94-.94-2.06-.94 2.06-2.06.94z\"/><path d=\"M17.41 7.96l-1.37-1.37c-.4-.4-.92-.59-1.43-.59-.52 0-1.04.2-1.43.59L10.3 9.45l-7.72 7.72c-.78.78-.78 2.05 0 2.83L4 21.41c.39.39.9.59 1.41.59.51 0 1.02-.2 1.41-.59l7.78-7.78 2.81-2.81c.8-.78.8-2.07 0-2.86zM5.41 20L4 18.59l7.72-7.72 1.47 1.35L5.41 20z\"/>\n",
              "  </svg>\n",
              "      </button>\n",
              "      \n",
              "  <style>\n",
              "    .colab-df-container {\n",
              "      display:flex;\n",
              "      flex-wrap:wrap;\n",
              "      gap: 12px;\n",
              "    }\n",
              "\n",
              "    .colab-df-convert {\n",
              "      background-color: #E8F0FE;\n",
              "      border: none;\n",
              "      border-radius: 50%;\n",
              "      cursor: pointer;\n",
              "      display: none;\n",
              "      fill: #1967D2;\n",
              "      height: 32px;\n",
              "      padding: 0 0 0 0;\n",
              "      width: 32px;\n",
              "    }\n",
              "\n",
              "    .colab-df-convert:hover {\n",
              "      background-color: #E2EBFA;\n",
              "      box-shadow: 0px 1px 2px rgba(60, 64, 67, 0.3), 0px 1px 3px 1px rgba(60, 64, 67, 0.15);\n",
              "      fill: #174EA6;\n",
              "    }\n",
              "\n",
              "    [theme=dark] .colab-df-convert {\n",
              "      background-color: #3B4455;\n",
              "      fill: #D2E3FC;\n",
              "    }\n",
              "\n",
              "    [theme=dark] .colab-df-convert:hover {\n",
              "      background-color: #434B5C;\n",
              "      box-shadow: 0px 1px 3px 1px rgba(0, 0, 0, 0.15);\n",
              "      filter: drop-shadow(0px 1px 2px rgba(0, 0, 0, 0.3));\n",
              "      fill: #FFFFFF;\n",
              "    }\n",
              "  </style>\n",
              "\n",
              "      <script>\n",
              "        const buttonEl =\n",
              "          document.querySelector('#df-ac9d693e-4bea-4fe3-bb28-6b80f555c8a0 button.colab-df-convert');\n",
              "        buttonEl.style.display =\n",
              "          google.colab.kernel.accessAllowed ? 'block' : 'none';\n",
              "\n",
              "        async function convertToInteractive(key) {\n",
              "          const element = document.querySelector('#df-ac9d693e-4bea-4fe3-bb28-6b80f555c8a0');\n",
              "          const dataTable =\n",
              "            await google.colab.kernel.invokeFunction('convertToInteractive',\n",
              "                                                     [key], {});\n",
              "          if (!dataTable) return;\n",
              "\n",
              "          const docLinkHtml = 'Like what you see? Visit the ' +\n",
              "            '<a target=\"_blank\" href=https://colab.research.google.com/notebooks/data_table.ipynb>data table notebook</a>'\n",
              "            + ' to learn more about interactive tables.';\n",
              "          element.innerHTML = '';\n",
              "          dataTable['output_type'] = 'display_data';\n",
              "          await google.colab.output.renderOutput(dataTable, element);\n",
              "          const docLink = document.createElement('div');\n",
              "          docLink.innerHTML = docLinkHtml;\n",
              "          element.appendChild(docLink);\n",
              "        }\n",
              "      </script>\n",
              "    </div>\n",
              "  </div>\n",
              "  "
            ]
          },
          "metadata": {},
          "execution_count": 51
        }
      ]
    },
    {
      "cell_type": "code",
      "source": [
        "# Define a function to extract the brand name from the item name\n",
        "def extract_brand_name(item_name):\n",
        "    for brand in brands:\n",
        "        # Use a regular expression to match the brand name\n",
        "        match = re.search(r\"\\b{}\\b\".format(brand), item_name) #\"\\b{}\\b\" finds the begining and ending words in sentence\n",
        "        if match:\n",
        "            # Extract the brand name from the item name\n",
        "            extracted_brand = match.group(0)\n",
        "            return extracted_brand\n",
        "    # If no brand is found, return None\n",
        "    return None"
      ],
      "metadata": {
        "id": "ZJ3Db7O6S-wl"
      },
      "execution_count": 35,
      "outputs": []
    },
    {
      "cell_type": "code",
      "source": [
        "# Add a new column to the DataFrame to store the extracted brand names\n",
        "df[\"brand_name\"] = df[\"item_name\"].apply(extract_brand_name)\n"
      ],
      "metadata": {
        "id": "2MkIXtAqS-y5"
      },
      "execution_count": 36,
      "outputs": []
    },
    {
      "cell_type": "code",
      "source": [
        "# Remove rows with missing brand names, dropna drops all the missing values \n",
        "df.dropna(subset=[\"brand_name\"], inplace=True)\n"
      ],
      "metadata": {
        "id": "p98WFtfyS-1C"
      },
      "execution_count": 37,
      "outputs": []
    },
    {
      "cell_type": "code",
      "source": [
        "# Split the data into training and testing sets\n",
        "X_train, X_test, y_train, y_test = train_test_split(df[\"item_name\"], df[\"brand_name\"], test_size=0.5, random_state=30)\n"
      ],
      "metadata": {
        "id": "h8Pz0O8nS-3c"
      },
      "execution_count": 38,
      "outputs": []
    },
    {
      "cell_type": "code",
      "source": [
        "X_train"
      ],
      "metadata": {
        "colab": {
          "base_uri": "https://localhost:8080/"
        },
        "id": "Hae9KFqjeW6t",
        "outputId": "92e8f917-0a81-4b3c-927e-730f78012dc7"
      },
      "execution_count": 39,
      "outputs": [
        {
          "output_type": "execute_result",
          "data": {
            "text/plain": [
              "12538                   Soda Mountain Dew Flamin Hot 20o\n",
              "5448                          20oz Dr. Pepper Zero Sugar\n",
              "13054                                  BEV - Sprite 20oz\n",
              "8068                                Soda Diet Pepsi 20Oz\n",
              "1918                            BVC - Dr. Pepper - 20oz.\n",
              "                              ...                       \n",
              "9964                               Bev Pepsi diet cherry\n",
              "4508                                          Sprite Can\n",
              "3463     Mountain Dew Rise Strawberry Melon Spark 16 oz.\n",
              "1777                                          20oz Pepsi\n",
              "15974                                Mountain Dew VooDew\n",
              "Name: item_name, Length: 2059, dtype: object"
            ]
          },
          "metadata": {},
          "execution_count": 39
        }
      ]
    },
    {
      "cell_type": "code",
      "source": [
        "X_test"
      ],
      "metadata": {
        "colab": {
          "base_uri": "https://localhost:8080/"
        },
        "id": "idPxQcbvegCp",
        "outputId": "e9d43f37-b40d-43e6-a027-0058a6e1b880"
      },
      "execution_count": 40,
      "outputs": [
        {
          "output_type": "execute_result",
          "data": {
            "text/plain": [
              "8640        Mountain Dew Baja Blast 20oz\n",
              "8983     BVC - Bottle Pepsi Vanilla 20oz\n",
              "965           2 for $2.22 Pepsi Products\n",
              "9356                     Pepsi Zero 20oz\n",
              "9708                    1L Pl Pepsi 1/15\n",
              "                      ...               \n",
              "4528                   Mountain Dew Diet\n",
              "2501               Mountain Dew btl 20oz\n",
              "12500         BVC - Mountain Dew 16.9 oz\n",
              "8647           Sprite Glass Bottle 355ml\n",
              "13173      Diet Pepsi - Classic Sweetner\n",
              "Name: item_name, Length: 2060, dtype: object"
            ]
          },
          "metadata": {},
          "execution_count": 40
        }
      ]
    },
    {
      "cell_type": "code",
      "source": [
        "y_train"
      ],
      "metadata": {
        "colab": {
          "base_uri": "https://localhost:8080/"
        },
        "id": "fkSfqTPsekdW",
        "outputId": "16c8726b-6007-462a-a6fc-332498304cec"
      },
      "execution_count": 41,
      "outputs": [
        {
          "output_type": "execute_result",
          "data": {
            "text/plain": [
              "12538    Mountain Dew\n",
              "5448       Dr. Pepper\n",
              "13054          Sprite\n",
              "8068            Pepsi\n",
              "1918       Dr. Pepper\n",
              "             ...     \n",
              "9964            Pepsi\n",
              "4508           Sprite\n",
              "3463     Mountain Dew\n",
              "1777            Pepsi\n",
              "15974    Mountain Dew\n",
              "Name: brand_name, Length: 2059, dtype: object"
            ]
          },
          "metadata": {},
          "execution_count": 41
        }
      ]
    },
    {
      "cell_type": "code",
      "source": [
        "y_test"
      ],
      "metadata": {
        "colab": {
          "base_uri": "https://localhost:8080/"
        },
        "id": "F_n34N4DfplI",
        "outputId": "7c440937-602c-46db-dc00-9487c179cd0d"
      },
      "execution_count": 42,
      "outputs": [
        {
          "output_type": "execute_result",
          "data": {
            "text/plain": [
              "8640     Mountain Dew\n",
              "8983            Pepsi\n",
              "965             Pepsi\n",
              "9356            Pepsi\n",
              "9708            Pepsi\n",
              "             ...     \n",
              "4528     Mountain Dew\n",
              "2501     Mountain Dew\n",
              "12500    Mountain Dew\n",
              "8647           Sprite\n",
              "13173           Pepsi\n",
              "Name: brand_name, Length: 2060, dtype: object"
            ]
          },
          "metadata": {},
          "execution_count": 42
        }
      ]
    },
    {
      "cell_type": "code",
      "source": [
        "# Vectorize the data , This creates an instance of the CountVectorizer class. By default, this will tokenize the text, lowercase it, and count the number of times each word appears in the text.\n",
        "vectorizer = CountVectorizer()\n",
        "X_train_vect = vectorizer.fit_transform(X_train)\n",
        "X_test_vect = vectorizer.transform(X_test)\n"
      ],
      "metadata": {
        "id": "Ju7Q7VhCS-5n"
      },
      "execution_count": 46,
      "outputs": []
    },
    {
      "cell_type": "code",
      "source": [
        "# Train a Naive Bayes classifier , basically it is used to train a supervised machine learning model for text classification\n",
        "clf = MultinomialNB() #clf is an instance of the MultinomialNB class\n",
        "clf.fit(X_train_vect, y_train) #t is trained on the training data using the fit() method which takes in the vectorized input X_train_vect and the corresponding output y_train. Once the classifier is trained, it can be used to predict the class labels for new data points."
      ],
      "metadata": {
        "colab": {
          "base_uri": "https://localhost:8080/"
        },
        "id": "d2na7ARTS-76",
        "outputId": "62add41e-8428-44be-be55-6007f029466f"
      },
      "execution_count": 47,
      "outputs": [
        {
          "output_type": "execute_result",
          "data": {
            "text/plain": [
              "MultinomialNB()"
            ]
          },
          "metadata": {},
          "execution_count": 47
        }
      ]
    },
    {
      "cell_type": "code",
      "source": [
        "# Evaluate the classifier\n",
        "accuracy = clf.score(X_test_vect, y_test)\n",
        "print(\"Accuracy: {:.2f}%\".format(accuracy * 100)) #The \"{:.2f}%\" format string specifies that the accuracy value should be displayed with two decimal places and a percentage sign."
      ],
      "metadata": {
        "colab": {
          "base_uri": "https://localhost:8080/"
        },
        "id": "RuScCzp0S--M",
        "outputId": "95c1d746-4f86-48fd-ca9a-0f5eeda26f92"
      },
      "execution_count": 48,
      "outputs": [
        {
          "output_type": "stream",
          "name": "stdout",
          "text": [
            "Accuracy: 99.66%\n"
          ]
        }
      ]
    },
    {
      "cell_type": "code",
      "source": [
        "df.to_csv('Carbonated_soft_drinks_with_brands.csv', index=False)"
      ],
      "metadata": {
        "id": "xcozlmYnS_Am"
      },
      "execution_count": 49,
      "outputs": []
    },
    {
      "cell_type": "code",
      "source": [],
      "metadata": {
        "id": "twNtxMUGS_DB"
      },
      "execution_count": null,
      "outputs": []
    }
  ]
}